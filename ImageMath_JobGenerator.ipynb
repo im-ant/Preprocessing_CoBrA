{
 "cells": [
  {
   "cell_type": "code",
   "execution_count": 6,
   "metadata": {
    "collapsed": false
   },
   "outputs": [
    {
     "name": "stdout",
     "output_type": "stream",
     "text": [
      "This box contains notes for myself\n"
     ]
    }
   ],
   "source": [
    "\"\"\"###################################################################\n",
    "Module to be loaded before running the script:\n",
    "- ANTs/git\n",
    "- qbatch/git\n",
    "\n",
    "Note:\n",
    "- 100 nii.gz label files needs ~8 cores of processors to run\n",
    "\n",
    "###################################################################\"\"\"\n",
    "print \"This box contains notes for myself\""
   ]
  },
  {
   "cell_type": "code",
   "execution_count": 7,
   "metadata": {
    "collapsed": true
   },
   "outputs": [],
   "source": [
    "# ====================================================================\n",
    "# IMPORT LIBRARIES\n",
    "# ====================================================================\n",
    "import os\n",
    "import subprocess\n",
    "import sys\n",
    "import glob #for wildcard matching\n",
    "import time\n",
    "\n"
   ]
  },
  {
   "cell_type": "code",
   "execution_count": 8,
   "metadata": {
    "collapsed": true
   },
   "outputs": [],
   "source": [
    "# ====================================================================\n",
    "# Setup directories, paths and filenames\n",
    "# - All paths must be ABSOLUTE!\n",
    "# - Refer to 'glob' manual to see the wildcard documentation for file-\n",
    "#        name matching\n",
    "# \n",
    "# ====================================================================\n",
    "\"\"\" Note on directory hierarchy for the input, reference and transform files \n",
    "parent_dir\n",
    "    |\n",
    "    +-- subj_dir_1 (as indicated by dir_wc)\n",
    "    |        |\n",
    "    |        +- file_of_interest (as indicated by file_wc)\n",
    "    |\n",
    "    +-- subj_dir_2 ...\n",
    "\"\"\"\n",
    "\n",
    "# =====================================\n",
    "# Input related\n",
    "# =====================================\n",
    "######## Input file paths ########\n",
    "# Path to the parent directory of the input files\n",
    "in_parent_dir='/data/chamal/projects/anthony/nmf_parcellation/cortical_tractMap/tract2voxel_probability_labels/model_space'\n",
    "# Wildcard / name of the individual subject directories\n",
    "in_dir_wc='[0-9][0-9][0-9][0-9][0-9][0-9]'\n",
    "# Wildcard / name of the input file\n",
    "in_file_wc='[0-9]*[0-9]_region_seg_idx_modelSpace.nii.gz'\n",
    "\n",
    "\n",
    "# =====================================\n",
    "# Output file path\n",
    "# =====================================\n",
    "######## Output file path ########\n",
    "output_file_path='/data/chamal/projects/anthony/nmf_parcellation/cortical_tractMap/tract2voxel_probability_labels/model_space/region_seg5_idx_modelSpace_majVote.nii.gz'\n",
    "\n",
    "######## Job document paths ########\n",
    "jobList_dir='/data/chamal/projects/anthony/qbatch_jobDocs'\n",
    "jobList_name='seg5_voxelizedTracts_segIdxMajVote_jobList.sub'\n",
    "\n",
    "\n",
    "# =====================================\n",
    "# ImageMath related\n",
    "# =====================================\n",
    "DIMENSIONALITY='3'\n",
    "OPERATION='MajorityVoting'\n"
   ]
  },
  {
   "cell_type": "code",
   "execution_count": 9,
   "metadata": {
    "collapsed": false
   },
   "outputs": [
    {
     "name": "stdout",
     "output_type": "stream",
     "text": [
      "File initilization stats:\n",
      "\tTotal input files: 100\n"
     ]
    }
   ],
   "source": [
    "# ====================================================================\n",
    "# Save the filenames into lists\n",
    "# ====================================================================\n",
    "\n",
    "#### Initilize and save input files\n",
    "in_file_list=glob.glob(os.path.join(in_parent_dir,in_dir_wc,in_file_wc))\n",
    "in_file_list.sort()\n",
    "\n",
    "#Printout\n",
    "print \"File initilization stats:\"\n",
    "print \"\\tTotal input files: %d\" % len(in_file_list)\n"
   ]
  },
  {
   "cell_type": "code",
   "execution_count": 10,
   "metadata": {
    "collapsed": false
   },
   "outputs": [],
   "source": [
    "# ====================================================================\n",
    "# CUSTOMIZATIONS\n",
    "# ====================================================================\n",
    "# Submission related\n",
    "QSUB = True #Submit on cluster?\n",
    "SUBMIT = True #Automatically send in the jobList or qsub myself?\n",
    "# QBatch related\n",
    "WAITTIME='10:00:00'\n",
    "CHUNKSIZE='1'\n",
    "PROCESSOR_PER_JOB='8' #Defalut = 1 \n",
    "\n",
    "# ====================================================================\n",
    "# Make jobList and optionally submit\n",
    "# ====================================================================\n",
    "\n",
    "\n",
    "\n",
    "#Check that output file is not created already\n",
    "if os.path.isfile(output_file_path):\n",
    "    print 'Output file already present. Aborting.'\n",
    "    sys.exit()\n",
    "\n",
    "##### MAKE THE COMMAND #####\n",
    "#Make the base command\n",
    "cmd = ['ImageMath',DIMENSIONALITY,output_file_path,OPERATION]\n",
    "#Add the input files\n",
    "cmd += in_file_list\n",
    "\n",
    "#If this is meant to be submitted on the cluster, generate job document\n",
    "if QSUB == True:\n",
    "    #Open output stream\n",
    "    jobList_path = os.path.join(jobList_dir,jobList_name)\n",
    "    jobList_outStream = open(jobList_path,'w')\n",
    "    #Annotate jobList\n",
    "    jobList_outStream.write(\"# Job doc generated on: %s\\n\" % time.strftime(\"%Y%d%m-%H%M\")) \n",
    "    jobList_outStream.write(\"# antsApplyTransforms specs:\\n\")\n",
    "    jobList_outStream.write(\"# \\tDimensionality: %s\\n\" % DIMENSIONALITY)\n",
    "    jobList_outStream.write(\"# \\tOperation: %s\\n\"% OPERATION)\n",
    "    jobList_outStream.write(\"# Qbatch specs:\\n\")\n",
    "    jobList_outStream.write(\"# \\tAutosubmitted: %s\\n\" % str(SUBMIT))\n",
    "    jobList_outStream.write(\"# \\tWaittime: %s\\n\" % WAITTIME)\n",
    "    jobList_outStream.write(\"# \\tChunksize: %s\\n\" % CHUNKSIZE)\n",
    "    jobList_outStream.write(\"# \\tProcessors per job: %s\\n\\n\" % PROCESSOR_PER_JOB)\n",
    "    #Create command\n",
    "    jobList_outStream.write(' '.join(cmd)+'\\n\\n\\n')\n",
    "    #Annotate with additional information about input files\n",
    "    jobList_outStream.write(\"# Input files parent folder: %s\\n\" % in_parent_dir)\n",
    "    jobList_outStream.write(\"# Number of input files: %d\\n\" % len(in_file_list))\n",
    "    jobList_outStream.write(\"# Input files:\\n\")\n",
    "    for f in in_file_list:\n",
    "        jobList_outStream.write(\"#\\t%s\\n\"%f)\n",
    "    #Close output stream\n",
    "    jobList_outStream.close()\n",
    "    \n",
    "    #Autosubmit if indicated\n",
    "    if SUBMIT==True:\n",
    "        sub_cmd = ['qbatch','-w',WAITTIME,'-c',CHUNKSIZE,'--ppj',PROCESSOR_PER_JOB,jobList_path]\n",
    "        subprocess.call(sub_cmd)\n",
    "#Else, run locally\n",
    "else:\n",
    "    subprocess.call(cmd)\n",
    "    \n",
    "\n",
    "\n"
   ]
  },
  {
   "cell_type": "code",
   "execution_count": null,
   "metadata": {
    "collapsed": true
   },
   "outputs": [],
   "source": []
  }
 ],
 "metadata": {
  "kernelspec": {
   "display_name": "Python 2",
   "language": "python",
   "name": "python2"
  },
  "language_info": {
   "codemirror_mode": {
    "name": "ipython",
    "version": 2
   },
   "file_extension": ".py",
   "mimetype": "text/x-python",
   "name": "python",
   "nbconvert_exporter": "python",
   "pygments_lexer": "ipython2",
   "version": "2.7.13"
  }
 },
 "nbformat": 4,
 "nbformat_minor": 2
}
